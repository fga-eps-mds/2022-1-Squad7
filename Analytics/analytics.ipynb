{
 "cells": [
  {
   "cell_type": "markdown",
   "metadata": {},
   "source": [
    "# Analytics - Product Quality"
   ]
  },
  {
   "cell_type": "markdown",
   "metadata": {},
   "source": [
    "#### Date: 2020/02\n",
    "\n",
    "#### SUMMARY:\n",
    "\n",
    "- This notebook represents the project quality analysis of the date exposed right above. "
   ]
  },
  {
   "cell_type": "markdown",
   "metadata": {},
   "source": [
    "### TEAM: Visualeasy\n",
    "\n",
    "##### Semester: Y2022/01\n",
    "##### Professor: Hilmer Neri\n",
    "\n",
    "##### Members:\n",
    "\n",
    "- Bruna Almeida\n",
    "- Bruno Carmo\n",
    "- Damarcones Porto\n",
    "- Estevão Reis\n",
    "- Gabriel Batalha\n",
    "- Gustavo Moreira\n",
    "- Itallo Gravina\n",
    "- João Pedro\n",
    "- Luis Bruno\n",
    "- Marcus Vinicius"
   ]
  },
  {
   "cell_type": "markdown",
   "metadata": {},
   "source": [
    "### LIBRARIES"
   ]
  },
  {
   "cell_type": "code",
   "execution_count": 1,
   "metadata": {},
   "outputs": [],
   "source": [
    "# Deal with data\n",
    "import pandas as pd\n",
    "import json\n",
    "from glob import glob\n",
    "import os\n",
    "import re\n",
    "\n",
    "# Deal with visualization\n",
    "import matplotlib.pyplot as plt\n",
    "\n",
    "# Deal with time\n",
    "import datetime"
   ]
  },
  {
   "cell_type": "markdown",
   "metadata": {},
   "source": [
    "### GRAPH SETTINGS"
   ]
  },
  {
   "cell_type": "code",
   "execution_count": 2,
   "metadata": {
    "jupyter": {
     "outputs_hidden": false
    },
    "pycharm": {
     "name": "#%%\n"
    }
   },
   "outputs": [
    {
     "data": {
      "text/plain": [
       "<Figure size 2000x1000 with 0 Axes>"
      ]
     },
     "metadata": {},
     "output_type": "display_data"
    }
   ],
   "source": [
    "fig = plt.figure(figsize=(20, 10))"
   ]
  },
  {
   "cell_type": "markdown",
   "metadata": {},
   "source": [
    "### DATAFRAME SETTINGS"
   ]
  },
  {
   "cell_type": "code",
   "execution_count": 3,
   "metadata": {},
   "outputs": [],
   "source": [
    "pd.set_option(\"display.max_rows\", None, \"display.max_columns\", None)"
   ]
  },
  {
   "cell_type": "markdown",
   "metadata": {},
   "source": [
    "#### Replace your semester, project name, repository name, and the programming language extension"
   ]
  },
  {
   "cell_type": "code",
   "execution_count": 4,
   "metadata": {
    "jupyter": {
     "outputs_hidden": false
    },
    "pycharm": {
     "name": "#%%\n"
    }
   },
   "outputs": [],
   "source": [
    "language = [['fga-eps-mds-2022-1-Visualeasy-Controle', 'js'],\n",
    "            ['fga-eps-mds-2022-1-Visualeasy-Frontend', 'ts']]\n",
    "\n",
    "repos_language = {}\n",
    "\n",
    "for item in language:\n",
    "    repos_language[f\"{item[0]}\"] = item[1]"
   ]
  },
  {
   "cell_type": "markdown",
   "metadata": {},
   "source": [
    "### SonarCloud"
   ]
  },
  {
   "cell_type": "markdown",
   "metadata": {},
   "source": [
    "##### Path to the folder with all your jsons"
   ]
  },
  {
   "cell_type": "code",
   "execution_count": 5,
   "metadata": {},
   "outputs": [],
   "source": [
    "jsons = glob('../analytics-raw-data/*.json') # add your path here"
   ]
  },
  {
   "cell_type": "code",
   "execution_count": null,
   "metadata": {
    "scrolled": false
   },
   "outputs": [],
   "source": []
  },
  {
   "cell_type": "code",
   "execution_count": 6,
   "metadata": {},
   "outputs": [],
   "source": [
    "def read_json(json_path):\n",
    "    \n",
    "    with open(json_path) as json_file:\n",
    "        json_obj = json.load(json_file)\n",
    "        \n",
    "    return json_obj\n",
    "\n",
    "def create_base_component_df(json_list):\n",
    "    \n",
    "    df = pd.DataFrame()\n",
    "\n",
    "    for i in json_list:\n",
    "\n",
    "        base_component = read_json(i)\n",
    "\n",
    "        base_component_data = base_component['baseComponent']['measures']\n",
    "\n",
    "        base_component_df = pd.DataFrame(base_component_data)\n",
    "\n",
    "        base_component_df['filename'] = os.path.basename(i)\n",
    "\n",
    "        df = df.append(base_component_df, ignore_index=True)\n",
    "        \n",
    "    # Replace the UnB semester with yours.\n",
    "    aux_df = df['filename'].str.split(r\"fga-eps-mds-2022.1-(.*?)-(.*?)-(.*?)-(.*?)-v(.*?).json\", expand=True)\n",
    "\n",
    "    df['repository'] = aux_df[2]\n",
    "\n",
    "    df['version'] = aux_df[5]\n",
    "\n",
    "    df = df.sort_values(by=['repository', 'version'])\n",
    "        \n",
    "    return df"
   ]
  },
  {
   "cell_type": "code",
   "execution_count": null,
   "metadata": {},
   "outputs": [],
   "source": []
  },
  {
   "cell_type": "markdown",
   "metadata": {},
   "source": [
    "#### Create base component dataframe"
   ]
  },
  {
   "cell_type": "code",
   "execution_count": 7,
   "metadata": {},
   "outputs": [
    {
     "name": "stderr",
     "output_type": "stream",
     "text": [
      "/tmp/ipykernel_199367/1251919851.py:22: FutureWarning: The frame.append method is deprecated and will be removed from pandas in a future version. Use pandas.concat instead.\n",
      "  df = df.append(base_component_df, ignore_index=True)\n",
      "/tmp/ipykernel_199367/1251919851.py:22: FutureWarning: The frame.append method is deprecated and will be removed from pandas in a future version. Use pandas.concat instead.\n",
      "  df = df.append(base_component_df, ignore_index=True)\n",
      "/tmp/ipykernel_199367/1251919851.py:22: FutureWarning: The frame.append method is deprecated and will be removed from pandas in a future version. Use pandas.concat instead.\n",
      "  df = df.append(base_component_df, ignore_index=True)\n",
      "/tmp/ipykernel_199367/1251919851.py:22: FutureWarning: The frame.append method is deprecated and will be removed from pandas in a future version. Use pandas.concat instead.\n",
      "  df = df.append(base_component_df, ignore_index=True)\n",
      "/tmp/ipykernel_199367/1251919851.py:22: FutureWarning: The frame.append method is deprecated and will be removed from pandas in a future version. Use pandas.concat instead.\n",
      "  df = df.append(base_component_df, ignore_index=True)\n",
      "/tmp/ipykernel_199367/1251919851.py:22: FutureWarning: The frame.append method is deprecated and will be removed from pandas in a future version. Use pandas.concat instead.\n",
      "  df = df.append(base_component_df, ignore_index=True)\n",
      "/tmp/ipykernel_199367/1251919851.py:22: FutureWarning: The frame.append method is deprecated and will be removed from pandas in a future version. Use pandas.concat instead.\n",
      "  df = df.append(base_component_df, ignore_index=True)\n",
      "/tmp/ipykernel_199367/1251919851.py:22: FutureWarning: The frame.append method is deprecated and will be removed from pandas in a future version. Use pandas.concat instead.\n",
      "  df = df.append(base_component_df, ignore_index=True)\n",
      "/tmp/ipykernel_199367/1251919851.py:22: FutureWarning: The frame.append method is deprecated and will be removed from pandas in a future version. Use pandas.concat instead.\n",
      "  df = df.append(base_component_df, ignore_index=True)\n",
      "/tmp/ipykernel_199367/1251919851.py:22: FutureWarning: The frame.append method is deprecated and will be removed from pandas in a future version. Use pandas.concat instead.\n",
      "  df = df.append(base_component_df, ignore_index=True)\n",
      "/tmp/ipykernel_199367/1251919851.py:22: FutureWarning: The frame.append method is deprecated and will be removed from pandas in a future version. Use pandas.concat instead.\n",
      "  df = df.append(base_component_df, ignore_index=True)\n",
      "/tmp/ipykernel_199367/1251919851.py:22: FutureWarning: The frame.append method is deprecated and will be removed from pandas in a future version. Use pandas.concat instead.\n",
      "  df = df.append(base_component_df, ignore_index=True)\n",
      "/tmp/ipykernel_199367/1251919851.py:22: FutureWarning: The frame.append method is deprecated and will be removed from pandas in a future version. Use pandas.concat instead.\n",
      "  df = df.append(base_component_df, ignore_index=True)\n",
      "/tmp/ipykernel_199367/1251919851.py:22: FutureWarning: The frame.append method is deprecated and will be removed from pandas in a future version. Use pandas.concat instead.\n",
      "  df = df.append(base_component_df, ignore_index=True)\n",
      "/tmp/ipykernel_199367/1251919851.py:22: FutureWarning: The frame.append method is deprecated and will be removed from pandas in a future version. Use pandas.concat instead.\n",
      "  df = df.append(base_component_df, ignore_index=True)\n",
      "/tmp/ipykernel_199367/1251919851.py:22: FutureWarning: The frame.append method is deprecated and will be removed from pandas in a future version. Use pandas.concat instead.\n",
      "  df = df.append(base_component_df, ignore_index=True)\n",
      "/tmp/ipykernel_199367/1251919851.py:22: FutureWarning: The frame.append method is deprecated and will be removed from pandas in a future version. Use pandas.concat instead.\n",
      "  df = df.append(base_component_df, ignore_index=True)\n",
      "/tmp/ipykernel_199367/1251919851.py:22: FutureWarning: The frame.append method is deprecated and will be removed from pandas in a future version. Use pandas.concat instead.\n",
      "  df = df.append(base_component_df, ignore_index=True)\n",
      "/tmp/ipykernel_199367/1251919851.py:22: FutureWarning: The frame.append method is deprecated and will be removed from pandas in a future version. Use pandas.concat instead.\n",
      "  df = df.append(base_component_df, ignore_index=True)\n",
      "/tmp/ipykernel_199367/1251919851.py:22: FutureWarning: The frame.append method is deprecated and will be removed from pandas in a future version. Use pandas.concat instead.\n",
      "  df = df.append(base_component_df, ignore_index=True)\n",
      "/tmp/ipykernel_199367/1251919851.py:22: FutureWarning: The frame.append method is deprecated and will be removed from pandas in a future version. Use pandas.concat instead.\n",
      "  df = df.append(base_component_df, ignore_index=True)\n",
      "/tmp/ipykernel_199367/1251919851.py:22: FutureWarning: The frame.append method is deprecated and will be removed from pandas in a future version. Use pandas.concat instead.\n",
      "  df = df.append(base_component_df, ignore_index=True)\n",
      "/tmp/ipykernel_199367/1251919851.py:22: FutureWarning: The frame.append method is deprecated and will be removed from pandas in a future version. Use pandas.concat instead.\n",
      "  df = df.append(base_component_df, ignore_index=True)\n",
      "/tmp/ipykernel_199367/1251919851.py:22: FutureWarning: The frame.append method is deprecated and will be removed from pandas in a future version. Use pandas.concat instead.\n",
      "  df = df.append(base_component_df, ignore_index=True)\n",
      "/tmp/ipykernel_199367/1251919851.py:22: FutureWarning: The frame.append method is deprecated and will be removed from pandas in a future version. Use pandas.concat instead.\n",
      "  df = df.append(base_component_df, ignore_index=True)\n",
      "/tmp/ipykernel_199367/1251919851.py:22: FutureWarning: The frame.append method is deprecated and will be removed from pandas in a future version. Use pandas.concat instead.\n",
      "  df = df.append(base_component_df, ignore_index=True)\n"
     ]
    }
   ],
   "source": [
    "base_component_df = create_base_component_df(jsons)"
   ]
  },
  {
   "cell_type": "code",
   "execution_count": 8,
   "metadata": {},
   "outputs": [
    {
     "data": {
      "text/html": [
       "<div>\n",
       "<style scoped>\n",
       "    .dataframe tbody tr th:only-of-type {\n",
       "        vertical-align: middle;\n",
       "    }\n",
       "\n",
       "    .dataframe tbody tr th {\n",
       "        vertical-align: top;\n",
       "    }\n",
       "\n",
       "    .dataframe thead th {\n",
       "        text-align: right;\n",
       "    }\n",
       "</style>\n",
       "<table border=\"1\" class=\"dataframe\">\n",
       "  <thead>\n",
       "    <tr style=\"text-align: right;\">\n",
       "      <th></th>\n",
       "      <th>metric</th>\n",
       "      <th>value</th>\n",
       "      <th>bestValue</th>\n",
       "      <th>filename</th>\n",
       "      <th>repository</th>\n",
       "      <th>version</th>\n",
       "    </tr>\n",
       "  </thead>\n",
       "  <tbody>\n",
       "    <tr>\n",
       "      <th>156</th>\n",
       "      <td>duplicated_lines_density</td>\n",
       "      <td>0.0</td>\n",
       "      <td>True</td>\n",
       "      <td>fga-eps-mds-2022-1-Visualeasy-Controle-08-02-2...</td>\n",
       "      <td>Controle</td>\n",
       "      <td>0.2</td>\n",
       "    </tr>\n",
       "    <tr>\n",
       "      <th>157</th>\n",
       "      <td>functions</td>\n",
       "      <td>14</td>\n",
       "      <td>NaN</td>\n",
       "      <td>fga-eps-mds-2022-1-Visualeasy-Controle-08-02-2...</td>\n",
       "      <td>Controle</td>\n",
       "      <td>0.2</td>\n",
       "    </tr>\n",
       "    <tr>\n",
       "      <th>158</th>\n",
       "      <td>test_execution_time</td>\n",
       "      <td>102</td>\n",
       "      <td>NaN</td>\n",
       "      <td>fga-eps-mds-2022-1-Visualeasy-Controle-08-02-2...</td>\n",
       "      <td>Controle</td>\n",
       "      <td>0.2</td>\n",
       "    </tr>\n",
       "    <tr>\n",
       "      <th>159</th>\n",
       "      <td>test_failures</td>\n",
       "      <td>0</td>\n",
       "      <td>True</td>\n",
       "      <td>fga-eps-mds-2022-1-Visualeasy-Controle-08-02-2...</td>\n",
       "      <td>Controle</td>\n",
       "      <td>0.2</td>\n",
       "    </tr>\n",
       "    <tr>\n",
       "      <th>160</th>\n",
       "      <td>test_errors</td>\n",
       "      <td>0</td>\n",
       "      <td>True</td>\n",
       "      <td>fga-eps-mds-2022-1-Visualeasy-Controle-08-02-2...</td>\n",
       "      <td>Controle</td>\n",
       "      <td>0.2</td>\n",
       "    </tr>\n",
       "    <tr>\n",
       "      <th>161</th>\n",
       "      <td>security_rating</td>\n",
       "      <td>1.0</td>\n",
       "      <td>True</td>\n",
       "      <td>fga-eps-mds-2022-1-Visualeasy-Controle-08-02-2...</td>\n",
       "      <td>Controle</td>\n",
       "      <td>0.2</td>\n",
       "    </tr>\n",
       "    <tr>\n",
       "      <th>162</th>\n",
       "      <td>tests</td>\n",
       "      <td>9</td>\n",
       "      <td>NaN</td>\n",
       "      <td>fga-eps-mds-2022-1-Visualeasy-Controle-08-02-2...</td>\n",
       "      <td>Controle</td>\n",
       "      <td>0.2</td>\n",
       "    </tr>\n",
       "    <tr>\n",
       "      <th>163</th>\n",
       "      <td>files</td>\n",
       "      <td>9</td>\n",
       "      <td>NaN</td>\n",
       "      <td>fga-eps-mds-2022-1-Visualeasy-Controle-08-02-2...</td>\n",
       "      <td>Controle</td>\n",
       "      <td>0.2</td>\n",
       "    </tr>\n",
       "    <tr>\n",
       "      <th>164</th>\n",
       "      <td>complexity</td>\n",
       "      <td>19</td>\n",
       "      <td>NaN</td>\n",
       "      <td>fga-eps-mds-2022-1-Visualeasy-Controle-08-02-2...</td>\n",
       "      <td>Controle</td>\n",
       "      <td>0.2</td>\n",
       "    </tr>\n",
       "    <tr>\n",
       "      <th>165</th>\n",
       "      <td>ncloc</td>\n",
       "      <td>168</td>\n",
       "      <td>NaN</td>\n",
       "      <td>fga-eps-mds-2022-1-Visualeasy-Controle-08-02-2...</td>\n",
       "      <td>Controle</td>\n",
       "      <td>0.2</td>\n",
       "    </tr>\n",
       "  </tbody>\n",
       "</table>\n",
       "</div>"
      ],
      "text/plain": [
       "                       metric value bestValue  \\\n",
       "156  duplicated_lines_density   0.0      True   \n",
       "157                 functions    14       NaN   \n",
       "158       test_execution_time   102       NaN   \n",
       "159             test_failures     0      True   \n",
       "160               test_errors     0      True   \n",
       "161           security_rating   1.0      True   \n",
       "162                     tests     9       NaN   \n",
       "163                     files     9       NaN   \n",
       "164                complexity    19       NaN   \n",
       "165                     ncloc   168       NaN   \n",
       "\n",
       "                                              filename repository version  \n",
       "156  fga-eps-mds-2022-1-Visualeasy-Controle-08-02-2...   Controle     0.2  \n",
       "157  fga-eps-mds-2022-1-Visualeasy-Controle-08-02-2...   Controle     0.2  \n",
       "158  fga-eps-mds-2022-1-Visualeasy-Controle-08-02-2...   Controle     0.2  \n",
       "159  fga-eps-mds-2022-1-Visualeasy-Controle-08-02-2...   Controle     0.2  \n",
       "160  fga-eps-mds-2022-1-Visualeasy-Controle-08-02-2...   Controle     0.2  \n",
       "161  fga-eps-mds-2022-1-Visualeasy-Controle-08-02-2...   Controle     0.2  \n",
       "162  fga-eps-mds-2022-1-Visualeasy-Controle-08-02-2...   Controle     0.2  \n",
       "163  fga-eps-mds-2022-1-Visualeasy-Controle-08-02-2...   Controle     0.2  \n",
       "164  fga-eps-mds-2022-1-Visualeasy-Controle-08-02-2...   Controle     0.2  \n",
       "165  fga-eps-mds-2022-1-Visualeasy-Controle-08-02-2...   Controle     0.2  "
      ]
     },
     "execution_count": 8,
     "metadata": {},
     "output_type": "execute_result"
    }
   ],
   "source": [
    "base_component_df.head(10)"
   ]
  },
  {
   "cell_type": "markdown",
   "metadata": {},
   "source": [
    "#### Create dataframe per file"
   ]
  },
  {
   "cell_type": "code",
   "execution_count": 9,
   "metadata": {},
   "outputs": [
    {
     "data": {
      "text/plain": [
       "12"
      ]
     },
     "execution_count": 9,
     "metadata": {},
     "output_type": "execute_result"
    }
   ],
   "source": [
    "metric_list = ['files',\n",
    "               'functions',\n",
    "               'complexity',\n",
    "               'comment_lines_density',\n",
    "               'duplicated_lines_density',\n",
    "               'coverage',\n",
    "               'ncloc',\n",
    "               'tests',\n",
    "               'test_errors',\n",
    "               'test_failures',\n",
    "               'test_execution_time',\n",
    "               'security_rating']\n",
    "\n",
    "len(metric_list)"
   ]
  },
  {
   "cell_type": "code",
   "execution_count": 10,
   "metadata": {
    "jupyter": {
     "outputs_hidden": false
    },
    "pycharm": {
     "name": "#%%\n"
    }
   },
   "outputs": [],
   "source": [
    "def get_files_df(df):\n",
    "    \n",
    "    files = df[df['qualifier'] == 'FIL'] \n",
    "    \n",
    "    files = files.dropna(subset=['functions', 'complexity','comment_lines_density', 'duplicated_lines_density', 'coverage' ])\n",
    "    \n",
    "    return files"
   ]
  },
  {
   "cell_type": "code",
   "execution_count": 11,
   "metadata": {
    "jupyter": {
     "outputs_hidden": false
    },
    "pycharm": {
     "name": "#%%\n"
    }
   },
   "outputs": [],
   "source": [
    "def get_dir_df(df):\n",
    "    dirs = df[df[\"qualifier\"] == \"DIR\"]     \n",
    "        \n",
    "    dirs = dirs.dropna(subset=['tests', 'test_errors','test_failures'])\n",
    "    \n",
    "    newdf = pd.to_numeric(dirs[\"tests\"])\n",
    "    \n",
    "    max_value_index = newdf.idxmax()            \n",
    "    \n",
    "    return dirs.loc[max_value_index]"
   ]
  },
  {
   "cell_type": "code",
   "execution_count": 12,
   "metadata": {},
   "outputs": [],
   "source": [
    "def get_uts_df(df):\n",
    "    dirs = df[df['qualifier'] == 'UTS']     \n",
    "\n",
    "    dirs = dirs.dropna(subset=['test_execution_time'])          \n",
    "    \n",
    "    return dirs"
   ]
  },
  {
   "cell_type": "code",
   "execution_count": 13,
   "metadata": {},
   "outputs": [],
   "source": [
    "def metric_per_file(json):\n",
    "    \n",
    "    file_json = []\n",
    "    \n",
    "    for component in json['components']:\n",
    "        \n",
    "        ncloc_value = 0;\n",
    "        \n",
    "        for valores in component['measures']:\n",
    "\n",
    "            if valores['metric'] == 'ncloc':\n",
    "                ncloc_value = float(valores['value'])\n",
    "                break\n",
    "    \n",
    "        if (component['qualifier'] == 'FIL') & (ncloc_value > 0) or (component['qualifier'] == 'DIR') or (component['qualifier'] == 'UTS'):                       \n",
    "            file_json.append(component)\n",
    "\n",
    "    return file_json\n",
    "\n",
    "def generate_file_dataframe_per_release(metric_list, json, language_extension):\n",
    "    \n",
    "    df_columns = metric_list\n",
    "    df = pd.DataFrame(columns = df_columns)\n",
    "    df2 = pd.DataFrame(columns = df_columns)\n",
    "    df3 = pd.DataFrame(columns = df_columns)\n",
    "    \n",
    "    \n",
    "    for file in json:\n",
    "        try:\n",
    "                if file['qualifier'] == 'FIL' and file['language'] == language_extension:\n",
    "                    for measure in file['measures']:\n",
    "                        df.at[file['path'], measure['metric']] = measure['value']\n",
    "\n",
    "                    df['qualifier'] = file['qualifier'] \n",
    "\n",
    "                elif file['qualifier'] == 'UTS':  \n",
    "                    for measure in file['measures']:\n",
    "                        df3.at[file['path'], measure['metric']] = measure['value']\n",
    "\n",
    "                    df3['qualifier'] = file['qualifier'] \n",
    "                elif file['qualifier'] == 'DIR':\n",
    "                    for measure in file['measures']:\n",
    "                        df2.at[file['path'], measure['metric']] = measure['value']\n",
    "                    df2['qualifier'] = file['qualifier'] \n",
    "        except:\n",
    "            pass\n",
    "\n",
    "    df.reset_index(inplace = True)\n",
    "    df2.reset_index(inplace = True)\n",
    "    df3.reset_index(inplace = True)\n",
    "    df = df.rename({'index': 'path'}, axis=1).drop(['files'], axis=1)\n",
    "    df2 = df2.rename({'index': 'path'}, axis=1).drop(['files'], axis=1)\n",
    "    df3 = df3.rename({'index': 'path'}, axis=1).drop(['files'], axis=1)\n",
    "\n",
    "    dfFinal = pd.concat([df,df2,df3], axis=0)\n",
    "\n",
    "    return dfFinal\n",
    "\n",
    "def create_file_df(json_list):\n",
    "    \n",
    "    df = pd.DataFrame()\n",
    "    dfDir = pd.DataFrame()\n",
    "\n",
    "    for i in json_list:\n",
    "\n",
    "        file_component = read_json(i)\n",
    "        \n",
    "        file_component_data = metric_per_file(file_component)\n",
    "                        \n",
    "        file_name = os.path.basename(i)\n",
    "\n",
    "        file_repository = re.split(r'-(\\d+-\\d+-\\d+-\\d+-\\d+-\\d+)-v(.*?).json', file_name)[0]\n",
    "\n",
    "        file_language = repos_language[f\"{file_repository}\"]\n",
    "\n",
    "        file_component_df = generate_file_dataframe_per_release(metric_list, file_component_data, language_extension = file_language)\n",
    "        \n",
    "        file_component_df['filename'] = os.path.basename(i)\n",
    "\n",
    "        df = df.append(file_component_df, ignore_index=True)\n",
    "        \n",
    "    # Replace the UnB semester with yours.\n",
    "    \n",
    "    aux_df = df['filename'].str.split(r\"-(\\d+-\\d+-\\d+-\\d+-\\d+-\\d+)-v(.*?).json\", expand=True)\n",
    "\n",
    "    df['repository'] = aux_df[0]\n",
    "\n",
    "    df['version'] = aux_df[2]\n",
    "\n",
    "    df = df.sort_values(by=['version'])\n",
    "    \n",
    "    return df"
   ]
  },
  {
   "cell_type": "code",
   "execution_count": 14,
   "metadata": {},
   "outputs": [
    {
     "name": "stderr",
     "output_type": "stream",
     "text": [
      "/tmp/ipykernel_199367/3038128456.py:80: FutureWarning: The frame.append method is deprecated and will be removed from pandas in a future version. Use pandas.concat instead.\n",
      "  df = df.append(file_component_df, ignore_index=True)\n",
      "/tmp/ipykernel_199367/3038128456.py:80: FutureWarning: The frame.append method is deprecated and will be removed from pandas in a future version. Use pandas.concat instead.\n",
      "  df = df.append(file_component_df, ignore_index=True)\n",
      "/tmp/ipykernel_199367/3038128456.py:80: FutureWarning: The frame.append method is deprecated and will be removed from pandas in a future version. Use pandas.concat instead.\n",
      "  df = df.append(file_component_df, ignore_index=True)\n",
      "/tmp/ipykernel_199367/3038128456.py:80: FutureWarning: The frame.append method is deprecated and will be removed from pandas in a future version. Use pandas.concat instead.\n",
      "  df = df.append(file_component_df, ignore_index=True)\n",
      "/tmp/ipykernel_199367/3038128456.py:80: FutureWarning: The frame.append method is deprecated and will be removed from pandas in a future version. Use pandas.concat instead.\n",
      "  df = df.append(file_component_df, ignore_index=True)\n",
      "/tmp/ipykernel_199367/3038128456.py:80: FutureWarning: The frame.append method is deprecated and will be removed from pandas in a future version. Use pandas.concat instead.\n",
      "  df = df.append(file_component_df, ignore_index=True)\n",
      "/tmp/ipykernel_199367/3038128456.py:80: FutureWarning: The frame.append method is deprecated and will be removed from pandas in a future version. Use pandas.concat instead.\n",
      "  df = df.append(file_component_df, ignore_index=True)\n",
      "/tmp/ipykernel_199367/3038128456.py:80: FutureWarning: The frame.append method is deprecated and will be removed from pandas in a future version. Use pandas.concat instead.\n",
      "  df = df.append(file_component_df, ignore_index=True)\n",
      "/tmp/ipykernel_199367/3038128456.py:80: FutureWarning: The frame.append method is deprecated and will be removed from pandas in a future version. Use pandas.concat instead.\n",
      "  df = df.append(file_component_df, ignore_index=True)\n",
      "/tmp/ipykernel_199367/3038128456.py:80: FutureWarning: The frame.append method is deprecated and will be removed from pandas in a future version. Use pandas.concat instead.\n",
      "  df = df.append(file_component_df, ignore_index=True)\n",
      "/tmp/ipykernel_199367/3038128456.py:80: FutureWarning: The frame.append method is deprecated and will be removed from pandas in a future version. Use pandas.concat instead.\n",
      "  df = df.append(file_component_df, ignore_index=True)\n",
      "/tmp/ipykernel_199367/3038128456.py:80: FutureWarning: The frame.append method is deprecated and will be removed from pandas in a future version. Use pandas.concat instead.\n",
      "  df = df.append(file_component_df, ignore_index=True)\n",
      "/tmp/ipykernel_199367/3038128456.py:80: FutureWarning: The frame.append method is deprecated and will be removed from pandas in a future version. Use pandas.concat instead.\n",
      "  df = df.append(file_component_df, ignore_index=True)\n",
      "/tmp/ipykernel_199367/3038128456.py:80: FutureWarning: The frame.append method is deprecated and will be removed from pandas in a future version. Use pandas.concat instead.\n",
      "  df = df.append(file_component_df, ignore_index=True)\n",
      "/tmp/ipykernel_199367/3038128456.py:80: FutureWarning: The frame.append method is deprecated and will be removed from pandas in a future version. Use pandas.concat instead.\n",
      "  df = df.append(file_component_df, ignore_index=True)\n",
      "/tmp/ipykernel_199367/3038128456.py:80: FutureWarning: The frame.append method is deprecated and will be removed from pandas in a future version. Use pandas.concat instead.\n",
      "  df = df.append(file_component_df, ignore_index=True)\n",
      "/tmp/ipykernel_199367/3038128456.py:80: FutureWarning: The frame.append method is deprecated and will be removed from pandas in a future version. Use pandas.concat instead.\n",
      "  df = df.append(file_component_df, ignore_index=True)\n",
      "/tmp/ipykernel_199367/3038128456.py:80: FutureWarning: The frame.append method is deprecated and will be removed from pandas in a future version. Use pandas.concat instead.\n",
      "  df = df.append(file_component_df, ignore_index=True)\n",
      "/tmp/ipykernel_199367/3038128456.py:80: FutureWarning: The frame.append method is deprecated and will be removed from pandas in a future version. Use pandas.concat instead.\n",
      "  df = df.append(file_component_df, ignore_index=True)\n",
      "/tmp/ipykernel_199367/3038128456.py:80: FutureWarning: The frame.append method is deprecated and will be removed from pandas in a future version. Use pandas.concat instead.\n",
      "  df = df.append(file_component_df, ignore_index=True)\n",
      "/tmp/ipykernel_199367/3038128456.py:80: FutureWarning: The frame.append method is deprecated and will be removed from pandas in a future version. Use pandas.concat instead.\n",
      "  df = df.append(file_component_df, ignore_index=True)\n",
      "/tmp/ipykernel_199367/3038128456.py:80: FutureWarning: The frame.append method is deprecated and will be removed from pandas in a future version. Use pandas.concat instead.\n",
      "  df = df.append(file_component_df, ignore_index=True)\n",
      "/tmp/ipykernel_199367/3038128456.py:80: FutureWarning: The frame.append method is deprecated and will be removed from pandas in a future version. Use pandas.concat instead.\n",
      "  df = df.append(file_component_df, ignore_index=True)\n",
      "/tmp/ipykernel_199367/3038128456.py:80: FutureWarning: The frame.append method is deprecated and will be removed from pandas in a future version. Use pandas.concat instead.\n",
      "  df = df.append(file_component_df, ignore_index=True)\n",
      "/tmp/ipykernel_199367/3038128456.py:80: FutureWarning: The frame.append method is deprecated and will be removed from pandas in a future version. Use pandas.concat instead.\n",
      "  df = df.append(file_component_df, ignore_index=True)\n",
      "/tmp/ipykernel_199367/3038128456.py:80: FutureWarning: The frame.append method is deprecated and will be removed from pandas in a future version. Use pandas.concat instead.\n",
      "  df = df.append(file_component_df, ignore_index=True)\n"
     ]
    },
    {
     "data": {
      "text/plain": [
       "array(['fga-eps-mds-2022-1-Visualeasy-Controle',\n",
       "       'fga-eps-mds-2022-1-Visualeasy-Frontend'], dtype=object)"
      ]
     },
     "execution_count": 14,
     "metadata": {},
     "output_type": "execute_result"
    }
   ],
   "source": [
    "file_component_df = create_file_df(jsons)\n",
    "file_component_df.repository.unique()"
   ]
  },
  {
   "cell_type": "markdown",
   "metadata": {},
   "source": [
    "#### Removing NaN"
   ]
  },
  {
   "cell_type": "code",
   "execution_count": 15,
   "metadata": {
    "jupyter": {
     "outputs_hidden": false
    },
    "pycharm": {
     "name": "#%%\n"
    }
   },
   "outputs": [],
   "source": [
    "# file_component_df = file_component_df.dropna(subset=['functions', 'complexity','comment_lines_density', 'duplicated_lines_density', 'coverage' ])"
   ]
  },
  {
   "cell_type": "markdown",
   "metadata": {},
   "source": [
    "        #### Create dataframe per repository"
   ]
  },
  {
   "cell_type": "code",
   "execution_count": 16,
   "metadata": {},
   "outputs": [
    {
     "data": {
      "text/plain": [
       "Ellipsis"
      ]
     },
     "execution_count": 16,
     "metadata": {},
     "output_type": "execute_result"
    }
   ],
   "source": [
    "# Example. You must replace repo1, repo1,..., for your repository's names\n",
    "\n",
    "repo1_df = file_component_df[file_component_df['repository'] == 'fga-eps-mds-2022-1-Visualeasy-Controle']\n",
    "repo2_df = file_component_df[file_component_df['repository'] == 'fga-eps-mds-2022-1-Visualeasy-Frontend']\n",
    "..."
   ]
  },
  {
   "cell_type": "code",
   "execution_count": 17,
   "metadata": {
    "jupyter": {
     "outputs_hidden": false
    },
    "pycharm": {
     "name": "#%%\n"
    }
   },
   "outputs": [],
   "source": [
    "def _ncloc(df):\n",
    "    ncloc = 0\n",
    "    for each in df['ncloc']:\n",
    "        n = 0\n",
    "        # try to cast the current ncloc value to int, if the value is NaN/Null, consider it as zero.\n",
    "        try:\n",
    "            n = int(each)\n",
    "        except ValueError:\n",
    "            n = 0\n",
    "        ncloc += n\n",
    "\n",
    "    return ncloc"
   ]
  },
  {
   "cell_type": "markdown",
   "metadata": {},
   "source": [
    "### Measure calculations according Q-Rapids quality model"
   ]
  },
  {
   "cell_type": "markdown",
   "metadata": {},
   "source": [
    "# Quality Aspect - Maintainability\n",
    "## Factor - Code Quality"
   ]
  },
  {
   "cell_type": "markdown",
   "metadata": {},
   "source": [
    "##### COMPLEXITY"
   ]
  },
  {
   "cell_type": "code",
   "execution_count": 18,
   "metadata": {},
   "outputs": [],
   "source": [
    "def m1(df):\n",
    "\n",
    "    files_df = get_files_df(df)\n",
    "    \n",
    "    density_non_complex_files = len(files_df[(files_df['complexity'].astype(float) /\n",
    "                                              files_df['functions'].astype(float)) < 10]) / len(files_df)\n",
    "    \n",
    "    return density_non_complex_files"
   ]
  },
  {
   "cell_type": "markdown",
   "metadata": {},
   "source": [
    "##### COMMENTS"
   ]
  },
  {
   "cell_type": "code",
   "execution_count": 19,
   "metadata": {},
   "outputs": [],
   "source": [
    "def m2(df):\n",
    "\n",
    "    files_df = get_files_df(df)\n",
    "    \n",
    "    density_comment_files = len(files_df[(files_df['comment_lines_density'].astype(float) > 10) &\n",
    "                                         (files_df['comment_lines_density'].astype(float) < 30)]) / len(files_df)\n",
    "    \n",
    "    return density_comment_files"
   ]
  },
  {
   "cell_type": "markdown",
   "metadata": {},
   "source": [
    "##### DUPLICATIONS"
   ]
  },
  {
   "cell_type": "code",
   "execution_count": 20,
   "metadata": {},
   "outputs": [],
   "source": [
    "def m3(df):\n",
    "\n",
    "    files_df = get_files_df(df)\n",
    "    \n",
    "    duplication = len(files_df[(files_df['duplicated_lines_density'].astype(float) < 5)])/len(files_df)\n",
    "    \n",
    "    return duplication"
   ]
  },
  {
   "cell_type": "markdown",
   "metadata": {},
   "source": [
    "# Quality Aspect - Reliability\n",
    "## Factor - Testing Status"
   ]
  },
  {
   "cell_type": "markdown",
   "metadata": {},
   "source": [
    "##### Passed tests"
   ]
  },
  {
   "cell_type": "code",
   "execution_count": 21,
   "metadata": {
    "jupyter": {
     "outputs_hidden": false
    },
    "pycharm": {
     "name": "#%%\n"
    }
   },
   "outputs": [],
   "source": [
    "def m4(df):\n",
    "\n",
    "    dir_df = get_dir_df(df)\n",
    "\n",
    "    passed_tests = (float(dir_df['tests']) - (float(dir_df['test_errors']) + float(dir_df['test_failures']))) /\\\n",
    "                   float(dir_df['tests'])\n",
    "\n",
    "    return passed_tests"
   ]
  },
  {
   "cell_type": "markdown",
   "metadata": {},
   "source": [
    "##### Fast test builds"
   ]
  },
  {
   "cell_type": "code",
   "execution_count": 22,
   "metadata": {
    "jupyter": {
     "outputs_hidden": false
    },
    "pycharm": {
     "name": "#%%\n"
    }
   },
   "outputs": [],
   "source": [
    "def m5(df):\n",
    "\n",
    "    dir_df = get_uts_df(df)\n",
    "    \n",
    "    density_fast_test_builds = len(dir_df[(dir_df['test_execution_time'].astype(float)) < 300000]) /\\\n",
    "                               len(dir_df['test_execution_time'].astype(float))\n",
    "    return density_fast_test_builds"
   ]
  },
  {
   "cell_type": "markdown",
   "metadata": {},
   "source": [
    "##### Test coverage"
   ]
  },
  {
   "cell_type": "code",
   "execution_count": 23,
   "metadata": {
    "jupyter": {
     "outputs_hidden": false
    },
    "pycharm": {
     "name": "#%%\n"
    }
   },
   "outputs": [],
   "source": [
    "def m6(df):\n",
    "\n",
    "    files_df = get_files_df(df)\n",
    "\n",
    "    density_test_coverage = len(files_df[(files_df['coverage'].astype(float) > 60)]) / len(files_df)\n",
    "\n",
    "    return density_test_coverage"
   ]
  },
  {
   "cell_type": "markdown",
   "metadata": {},
   "source": [
    "### Calculate m1, m2, m3, m4, m5 and m6 for each repository"
   ]
  },
  {
   "cell_type": "code",
   "execution_count": 24,
   "metadata": {},
   "outputs": [],
   "source": [
    "def create_metrics_df(df):\n",
    "    \n",
    "    version_vec = df['version'].unique()\n",
    "    \n",
    "    m1_list = []\n",
    "    m2_list = []\n",
    "    m3_list = []\n",
    "    m4_list = []\n",
    "    m5_list = []\n",
    "    m6_list = []\n",
    "\n",
    "    ncloc_list = []\n",
    "    repository_list = []\n",
    "    version_list = []\n",
    "    \n",
    "    for version in version_vec:\n",
    "\n",
    "        version_df = df[df['version'] == version]\n",
    "        \n",
    "        m1_list.append(m1(version_df))\n",
    "        m2_list.append(m2(version_df))\n",
    "        m3_list.append(m3(version_df))\n",
    "        m4_list.append(m4(version_df))\n",
    "        m5_list.append(m5(version_df))\n",
    "        m6_list.append(m6(version_df))\n",
    "\n",
    "        ncloc_list.append(_ncloc(version_df))\n",
    "        repository_list.append(version_df['repository'].iloc[0])\n",
    "        version_list.append(version)\n",
    "        \n",
    "    metrics_df = pd.DataFrame({'m1': m1_list,\n",
    "                               'm2': m2_list,\n",
    "                               'm3': m3_list,\n",
    "                               'm4': m4_list,\n",
    "                               'm5': m5_list,\n",
    "                               'm6': m6_list,\n",
    "                               'repository': repository_list, \n",
    "                               'version': version_list,\n",
    "                               'ncloc': ncloc_list})\n",
    "        \n",
    "    return metrics_df"
   ]
  },
  {
   "cell_type": "code",
   "execution_count": 25,
   "metadata": {},
   "outputs": [
    {
     "data": {
      "text/plain": [
       "Ellipsis"
      ]
     },
     "execution_count": 25,
     "metadata": {},
     "output_type": "execute_result"
    }
   ],
   "source": [
    "repo1 = create_metrics_df(repo1_df)\n",
    "repo2 = create_metrics_df(repo2_df)\n",
    "\n",
    "\n",
    "..."
   ]
  },
  {
   "cell_type": "markdown",
   "metadata": {},
   "source": [
    "### Data visualization\n",
    "\n",
    "- You must do this for each of your repositories"
   ]
  },
  {
   "cell_type": "code",
   "execution_count": 26,
   "metadata": {},
   "outputs": [
    {
     "data": {
      "text/plain": [
       "[<matplotlib.lines.Line2D at 0x7f70b5e37070>]"
      ]
     },
     "execution_count": 26,
     "metadata": {},
     "output_type": "execute_result"
    },
    {
     "data": {
      "image/png": "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\n",
      "text/plain": [
       "<Figure size 640x480 with 1 Axes>"
      ]
     },
     "metadata": {},
     "output_type": "display_data"
    }
   ],
   "source": [
    "plt.plot(repo1['m1'], linewidth=3, marker='o', markersize=10)\n",
    "plt.plot(repo1['m2'], linewidth=3, marker='o', markersize=10)\n",
    "plt.plot(repo1['m3'], linewidth=3, marker='o', markersize=10)\n",
    "plt.plot(repo1['m4'], linewidth=3, marker='o', markersize=10)\n",
    "plt.plot(repo1['m5'], linewidth=3, marker='o', markersize=10)\n",
    "plt.plot(repo1['m6'], linewidth=3, marker='o', markersize=10)"
   ]
  },
  {
   "cell_type": "code",
   "execution_count": 27,
   "metadata": {
    "jupyter": {
     "outputs_hidden": false
    },
    "pycharm": {
     "name": "#%%\n"
    }
   },
   "outputs": [
    {
     "data": {
      "text/plain": [
       "Ellipsis"
      ]
     },
     "execution_count": 27,
     "metadata": {},
     "output_type": "execute_result"
    },
    {
     "data": {
      "image/png": "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\n",
      "text/plain": [
       "<Figure size 640x480 with 1 Axes>"
      ]
     },
     "metadata": {},
     "output_type": "display_data"
    }
   ],
   "source": [
    "\n",
    "plt.plot(repo2['m1'], linewidth=3, marker='o', markersize=10)\n",
    "plt.plot(repo2['m2'], linewidth=3, marker='o', markersize=10)\n",
    "plt.plot(repo2['m3'], linewidth=3, marker='o', markersize=10)\n",
    "plt.plot(repo2['m4'], linewidth=3, marker='o', markersize=10)\n",
    "plt.plot(repo2['m5'], linewidth=3, marker='o', markersize=10)\n",
    "plt.plot(repo2['m6'], linewidth=3, marker='o', markersize=10)\n",
    "\n",
    "..."
   ]
  },
  {
   "cell_type": "markdown",
   "metadata": {},
   "source": [
    "### Quality factor and aspect aggregation\n",
    "\n",
    "- You must do this for each of your repositories"
   ]
  },
  {
   "cell_type": "code",
   "execution_count": 28,
   "metadata": {},
   "outputs": [
    {
     "data": {
      "text/plain": [
       "Ellipsis"
      ]
     },
     "execution_count": 28,
     "metadata": {},
     "output_type": "execute_result"
    }
   ],
   "source": [
    "psc1 = 1\n",
    "psc2 = 1\n",
    "pc1 = 0.5\n",
    "pc2 = 0.5\n",
    "pm1 = 0.33\n",
    "pm2 = 0.33\n",
    "pm3 = 0.33\n",
    "pm4 = 0.25\n",
    "pm5 = 0.25\n",
    "pm6 = 0.5\n",
    "\n",
    "repo1['code_quality'] = ((repo1['m1']*pm1) + (repo1['m2']*pm2) + (repo1['m3']*pm3)) * psc1\n",
    "repo2['code_quality'] = ((repo2['m1']*pm1) + (repo2['m2']*pm2) + (repo2['m3']*pm3)) * psc1\n",
    "...\n",
    "\n",
    "repo1['testing_status'] = ((repo1['m4']*pm4) + (repo1['m5']*pm5) + (repo1['m6']*pm6)) * psc2\n",
    "repo2['testing_status'] = ((repo2['m4']*pm4) + (repo2['m5']*pm5) + (repo2['m6']*pm6)) * psc2\n",
    "..."
   ]
  },
  {
   "cell_type": "code",
   "execution_count": 29,
   "metadata": {},
   "outputs": [
    {
     "data": {
      "text/plain": [
       "Ellipsis"
      ]
     },
     "execution_count": 29,
     "metadata": {},
     "output_type": "execute_result"
    },
    {
     "data": {
      "image/png": "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\n",
      "text/plain": [
       "<Figure size 640x480 with 1 Axes>"
      ]
     },
     "metadata": {},
     "output_type": "display_data"
    }
   ],
   "source": [
    "plt.plot(repo1['code_quality'], linewidth=3, marker='o', markersize=5)\n",
    "plt.plot(repo2['code_quality'], linewidth=3, marker='o', markersize=5)\n",
    "..."
   ]
  },
  {
   "cell_type": "code",
   "execution_count": 30,
   "metadata": {
    "jupyter": {
     "outputs_hidden": false
    },
    "pycharm": {
     "name": "#%%\n"
    }
   },
   "outputs": [
    {
     "data": {
      "text/plain": [
       "Ellipsis"
      ]
     },
     "execution_count": 30,
     "metadata": {},
     "output_type": "execute_result"
    },
    {
     "data": {
      "image/png": "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\n",
      "text/plain": [
       "<Figure size 640x480 with 1 Axes>"
      ]
     },
     "metadata": {},
     "output_type": "display_data"
    }
   ],
   "source": [
    "\n",
    "plt.plot(repo1['testing_status'], linewidth=3, marker='o', markersize=5)\n",
    "plt.plot(repo2['testing_status'], linewidth=3, marker='o', markersize=5)\n",
    "...\n"
   ]
  },
  {
   "cell_type": "code",
   "execution_count": 31,
   "metadata": {},
   "outputs": [
    {
     "data": {
      "text/plain": [
       "Ellipsis"
      ]
     },
     "execution_count": 31,
     "metadata": {},
     "output_type": "execute_result"
    }
   ],
   "source": [
    "repo1['Maintainability'] = repo1['code_quality'] * pc1\n",
    "repo1['Reliability'] = repo1['testing_status'] * pc2\n",
    "repo1['total'] = repo1['Maintainability'] + repo1['Reliability']\n",
    "\n",
    "repo2['Maintainability'] = repo2['code_quality'] * pc1\n",
    "repo2['Reliability'] = repo2['testing_status'] * pc2\n",
    "repo2['total'] = repo2['Maintainability'] + repo2['Reliability']\n",
    "..."
   ]
  },
  {
   "cell_type": "code",
   "execution_count": 32,
   "metadata": {},
   "outputs": [
    {
     "data": {
      "text/html": [
       "<div>\n",
       "<style scoped>\n",
       "    .dataframe tbody tr th:only-of-type {\n",
       "        vertical-align: middle;\n",
       "    }\n",
       "\n",
       "    .dataframe tbody tr th {\n",
       "        vertical-align: top;\n",
       "    }\n",
       "\n",
       "    .dataframe thead th {\n",
       "        text-align: right;\n",
       "    }\n",
       "</style>\n",
       "<table border=\"1\" class=\"dataframe\">\n",
       "  <thead>\n",
       "    <tr style=\"text-align: right;\">\n",
       "      <th></th>\n",
       "      <th>m1</th>\n",
       "      <th>m2</th>\n",
       "      <th>m3</th>\n",
       "      <th>m4</th>\n",
       "      <th>m5</th>\n",
       "      <th>m6</th>\n",
       "      <th>repository</th>\n",
       "      <th>version</th>\n",
       "      <th>ncloc</th>\n",
       "      <th>code_quality</th>\n",
       "      <th>testing_status</th>\n",
       "      <th>Maintainability</th>\n",
       "      <th>Reliability</th>\n",
       "      <th>total</th>\n",
       "    </tr>\n",
       "  </thead>\n",
       "  <tbody>\n",
       "    <tr>\n",
       "      <th>0</th>\n",
       "      <td>0.500000</td>\n",
       "      <td>0.125000</td>\n",
       "      <td>1.000000</td>\n",
       "      <td>1.0</td>\n",
       "      <td>1.0</td>\n",
       "      <td>1.0</td>\n",
       "      <td>fga-eps-mds-2022-1-Visualeasy-Controle</td>\n",
       "      <td>0.2</td>\n",
       "      <td>430</td>\n",
       "      <td>0.536250</td>\n",
       "      <td>1.0</td>\n",
       "      <td>0.268125</td>\n",
       "      <td>0.5</td>\n",
       "      <td>0.768125</td>\n",
       "    </tr>\n",
       "    <tr>\n",
       "      <th>1</th>\n",
       "      <td>0.500000</td>\n",
       "      <td>0.125000</td>\n",
       "      <td>1.000000</td>\n",
       "      <td>1.0</td>\n",
       "      <td>1.0</td>\n",
       "      <td>1.0</td>\n",
       "      <td>fga-eps-mds-2022-1-Visualeasy-Controle</td>\n",
       "      <td>0.3</td>\n",
       "      <td>632</td>\n",
       "      <td>0.536250</td>\n",
       "      <td>1.0</td>\n",
       "      <td>0.268125</td>\n",
       "      <td>0.5</td>\n",
       "      <td>0.768125</td>\n",
       "    </tr>\n",
       "    <tr>\n",
       "      <th>2</th>\n",
       "      <td>1.000000</td>\n",
       "      <td>0.333333</td>\n",
       "      <td>0.666667</td>\n",
       "      <td>1.0</td>\n",
       "      <td>1.0</td>\n",
       "      <td>1.0</td>\n",
       "      <td>fga-eps-mds-2022-1-Visualeasy-Controle</td>\n",
       "      <td>0.3.1</td>\n",
       "      <td>668</td>\n",
       "      <td>0.660000</td>\n",
       "      <td>1.0</td>\n",
       "      <td>0.330000</td>\n",
       "      <td>0.5</td>\n",
       "      <td>0.830000</td>\n",
       "    </tr>\n",
       "    <tr>\n",
       "      <th>3</th>\n",
       "      <td>1.000000</td>\n",
       "      <td>0.333333</td>\n",
       "      <td>1.000000</td>\n",
       "      <td>1.0</td>\n",
       "      <td>1.0</td>\n",
       "      <td>1.0</td>\n",
       "      <td>fga-eps-mds-2022-1-Visualeasy-Controle</td>\n",
       "      <td>0.3.2</td>\n",
       "      <td>422</td>\n",
       "      <td>0.770000</td>\n",
       "      <td>1.0</td>\n",
       "      <td>0.385000</td>\n",
       "      <td>0.5</td>\n",
       "      <td>0.885000</td>\n",
       "    </tr>\n",
       "    <tr>\n",
       "      <th>4</th>\n",
       "      <td>1.000000</td>\n",
       "      <td>0.333333</td>\n",
       "      <td>1.000000</td>\n",
       "      <td>1.0</td>\n",
       "      <td>1.0</td>\n",
       "      <td>1.0</td>\n",
       "      <td>fga-eps-mds-2022-1-Visualeasy-Controle</td>\n",
       "      <td>0.3.3</td>\n",
       "      <td>434</td>\n",
       "      <td>0.770000</td>\n",
       "      <td>1.0</td>\n",
       "      <td>0.385000</td>\n",
       "      <td>0.5</td>\n",
       "      <td>0.885000</td>\n",
       "    </tr>\n",
       "    <tr>\n",
       "      <th>5</th>\n",
       "      <td>0.555556</td>\n",
       "      <td>0.222222</td>\n",
       "      <td>1.000000</td>\n",
       "      <td>1.0</td>\n",
       "      <td>1.0</td>\n",
       "      <td>1.0</td>\n",
       "      <td>fga-eps-mds-2022-1-Visualeasy-Controle</td>\n",
       "      <td>0.4</td>\n",
       "      <td>808</td>\n",
       "      <td>0.586667</td>\n",
       "      <td>1.0</td>\n",
       "      <td>0.293333</td>\n",
       "      <td>0.5</td>\n",
       "      <td>0.793333</td>\n",
       "    </tr>\n",
       "    <tr>\n",
       "      <th>6</th>\n",
       "      <td>0.555556</td>\n",
       "      <td>0.222222</td>\n",
       "      <td>1.000000</td>\n",
       "      <td>1.0</td>\n",
       "      <td>1.0</td>\n",
       "      <td>1.0</td>\n",
       "      <td>fga-eps-mds-2022-1-Visualeasy-Controle</td>\n",
       "      <td>0.5</td>\n",
       "      <td>808</td>\n",
       "      <td>0.586667</td>\n",
       "      <td>1.0</td>\n",
       "      <td>0.293333</td>\n",
       "      <td>0.5</td>\n",
       "      <td>0.793333</td>\n",
       "    </tr>\n",
       "    <tr>\n",
       "      <th>7</th>\n",
       "      <td>0.555556</td>\n",
       "      <td>0.000000</td>\n",
       "      <td>1.000000</td>\n",
       "      <td>1.0</td>\n",
       "      <td>1.0</td>\n",
       "      <td>1.0</td>\n",
       "      <td>fga-eps-mds-2022-1-Visualeasy-Controle</td>\n",
       "      <td>1.0</td>\n",
       "      <td>808</td>\n",
       "      <td>0.513333</td>\n",
       "      <td>1.0</td>\n",
       "      <td>0.256667</td>\n",
       "      <td>0.5</td>\n",
       "      <td>0.756667</td>\n",
       "    </tr>\n",
       "  </tbody>\n",
       "</table>\n",
       "</div>"
      ],
      "text/plain": [
       "         m1        m2        m3   m4   m5   m6  \\\n",
       "0  0.500000  0.125000  1.000000  1.0  1.0  1.0   \n",
       "1  0.500000  0.125000  1.000000  1.0  1.0  1.0   \n",
       "2  1.000000  0.333333  0.666667  1.0  1.0  1.0   \n",
       "3  1.000000  0.333333  1.000000  1.0  1.0  1.0   \n",
       "4  1.000000  0.333333  1.000000  1.0  1.0  1.0   \n",
       "5  0.555556  0.222222  1.000000  1.0  1.0  1.0   \n",
       "6  0.555556  0.222222  1.000000  1.0  1.0  1.0   \n",
       "7  0.555556  0.000000  1.000000  1.0  1.0  1.0   \n",
       "\n",
       "                               repository version  ncloc  code_quality  \\\n",
       "0  fga-eps-mds-2022-1-Visualeasy-Controle     0.2    430      0.536250   \n",
       "1  fga-eps-mds-2022-1-Visualeasy-Controle     0.3    632      0.536250   \n",
       "2  fga-eps-mds-2022-1-Visualeasy-Controle   0.3.1    668      0.660000   \n",
       "3  fga-eps-mds-2022-1-Visualeasy-Controle   0.3.2    422      0.770000   \n",
       "4  fga-eps-mds-2022-1-Visualeasy-Controle   0.3.3    434      0.770000   \n",
       "5  fga-eps-mds-2022-1-Visualeasy-Controle     0.4    808      0.586667   \n",
       "6  fga-eps-mds-2022-1-Visualeasy-Controle     0.5    808      0.586667   \n",
       "7  fga-eps-mds-2022-1-Visualeasy-Controle     1.0    808      0.513333   \n",
       "\n",
       "   testing_status  Maintainability  Reliability     total  \n",
       "0             1.0         0.268125          0.5  0.768125  \n",
       "1             1.0         0.268125          0.5  0.768125  \n",
       "2             1.0         0.330000          0.5  0.830000  \n",
       "3             1.0         0.385000          0.5  0.885000  \n",
       "4             1.0         0.385000          0.5  0.885000  \n",
       "5             1.0         0.293333          0.5  0.793333  \n",
       "6             1.0         0.293333          0.5  0.793333  \n",
       "7             1.0         0.256667          0.5  0.756667  "
      ]
     },
     "execution_count": 32,
     "metadata": {},
     "output_type": "execute_result"
    }
   ],
   "source": [
    "repo1"
   ]
  },
  {
   "cell_type": "code",
   "execution_count": 33,
   "metadata": {
    "pycharm": {
     "name": "#%%\n"
    }
   },
   "outputs": [
    {
     "data": {
      "text/plain": [
       "(0.1, 1.1)"
      ]
     },
     "execution_count": 33,
     "metadata": {},
     "output_type": "execute_result"
    },
    {
     "data": {
      "image/png": "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\n",
      "text/plain": [
       "<Figure size 640x480 with 1 Axes>"
      ]
     },
     "metadata": {},
     "output_type": "display_data"
    }
   ],
   "source": [
    "plt.plot(repo1['Maintainability'], linewidth=3, marker='o', markersize=5)\n",
    "plt.plot(repo1['Reliability'], linewidth=3, marker='*', markersize=5)\n",
    "plt.plot(repo1['total'], linewidth=3, marker='X', markersize=5)\n",
    "\n",
    "plt.ylim(0.1,1.1)"
   ]
  },
  {
   "cell_type": "code",
   "execution_count": 34,
   "metadata": {
    "jupyter": {
     "outputs_hidden": false
    },
    "pycharm": {
     "name": "#%%\n"
    }
   },
   "outputs": [
    {
     "data": {
      "text/html": [
       "<div>\n",
       "<style scoped>\n",
       "    .dataframe tbody tr th:only-of-type {\n",
       "        vertical-align: middle;\n",
       "    }\n",
       "\n",
       "    .dataframe tbody tr th {\n",
       "        vertical-align: top;\n",
       "    }\n",
       "\n",
       "    .dataframe thead th {\n",
       "        text-align: right;\n",
       "    }\n",
       "</style>\n",
       "<table border=\"1\" class=\"dataframe\">\n",
       "  <thead>\n",
       "    <tr style=\"text-align: right;\">\n",
       "      <th></th>\n",
       "      <th>m1</th>\n",
       "      <th>m2</th>\n",
       "      <th>m3</th>\n",
       "      <th>m4</th>\n",
       "      <th>m5</th>\n",
       "      <th>m6</th>\n",
       "      <th>repository</th>\n",
       "      <th>version</th>\n",
       "      <th>ncloc</th>\n",
       "      <th>code_quality</th>\n",
       "      <th>testing_status</th>\n",
       "      <th>Maintainability</th>\n",
       "      <th>Reliability</th>\n",
       "      <th>total</th>\n",
       "    </tr>\n",
       "  </thead>\n",
       "  <tbody>\n",
       "    <tr>\n",
       "      <th>0</th>\n",
       "      <td>1.0</td>\n",
       "      <td>0.000000</td>\n",
       "      <td>1.0</td>\n",
       "      <td>1.000000</td>\n",
       "      <td>1.0</td>\n",
       "      <td>0.625000</td>\n",
       "      <td>fga-eps-mds-2022-1-Visualeasy-Frontend</td>\n",
       "      <td>0.2</td>\n",
       "      <td>776</td>\n",
       "      <td>0.660000</td>\n",
       "      <td>0.812500</td>\n",
       "      <td>0.330000</td>\n",
       "      <td>0.406250</td>\n",
       "      <td>0.736250</td>\n",
       "    </tr>\n",
       "    <tr>\n",
       "      <th>1</th>\n",
       "      <td>1.0</td>\n",
       "      <td>0.111111</td>\n",
       "      <td>1.0</td>\n",
       "      <td>1.000000</td>\n",
       "      <td>1.0</td>\n",
       "      <td>0.555556</td>\n",
       "      <td>fga-eps-mds-2022-1-Visualeasy-Frontend</td>\n",
       "      <td>0.3</td>\n",
       "      <td>1366</td>\n",
       "      <td>0.696667</td>\n",
       "      <td>0.777778</td>\n",
       "      <td>0.348333</td>\n",
       "      <td>0.388889</td>\n",
       "      <td>0.737222</td>\n",
       "    </tr>\n",
       "    <tr>\n",
       "      <th>2</th>\n",
       "      <td>1.0</td>\n",
       "      <td>0.000000</td>\n",
       "      <td>1.0</td>\n",
       "      <td>1.000000</td>\n",
       "      <td>1.0</td>\n",
       "      <td>1.000000</td>\n",
       "      <td>fga-eps-mds-2022-1-Visualeasy-Frontend</td>\n",
       "      <td>0.3.2</td>\n",
       "      <td>328</td>\n",
       "      <td>0.660000</td>\n",
       "      <td>1.000000</td>\n",
       "      <td>0.330000</td>\n",
       "      <td>0.500000</td>\n",
       "      <td>0.830000</td>\n",
       "    </tr>\n",
       "    <tr>\n",
       "      <th>3</th>\n",
       "      <td>1.0</td>\n",
       "      <td>0.166667</td>\n",
       "      <td>1.0</td>\n",
       "      <td>1.000000</td>\n",
       "      <td>1.0</td>\n",
       "      <td>0.500000</td>\n",
       "      <td>fga-eps-mds-2022-1-Visualeasy-Frontend</td>\n",
       "      <td>0.3.3</td>\n",
       "      <td>1424</td>\n",
       "      <td>0.715000</td>\n",
       "      <td>0.750000</td>\n",
       "      <td>0.357500</td>\n",
       "      <td>0.375000</td>\n",
       "      <td>0.732500</td>\n",
       "    </tr>\n",
       "    <tr>\n",
       "      <th>4</th>\n",
       "      <td>1.0</td>\n",
       "      <td>0.000000</td>\n",
       "      <td>1.0</td>\n",
       "      <td>1.000000</td>\n",
       "      <td>1.0</td>\n",
       "      <td>0.833333</td>\n",
       "      <td>fga-eps-mds-2022-1-Visualeasy-Frontend</td>\n",
       "      <td>0.3.4</td>\n",
       "      <td>1488</td>\n",
       "      <td>0.660000</td>\n",
       "      <td>0.916667</td>\n",
       "      <td>0.330000</td>\n",
       "      <td>0.458333</td>\n",
       "      <td>0.788333</td>\n",
       "    </tr>\n",
       "    <tr>\n",
       "      <th>5</th>\n",
       "      <td>1.0</td>\n",
       "      <td>0.000000</td>\n",
       "      <td>1.0</td>\n",
       "      <td>1.000000</td>\n",
       "      <td>1.0</td>\n",
       "      <td>0.833333</td>\n",
       "      <td>fga-eps-mds-2022-1-Visualeasy-Frontend</td>\n",
       "      <td>0.3.5</td>\n",
       "      <td>1564</td>\n",
       "      <td>0.660000</td>\n",
       "      <td>0.916667</td>\n",
       "      <td>0.330000</td>\n",
       "      <td>0.458333</td>\n",
       "      <td>0.788333</td>\n",
       "    </tr>\n",
       "    <tr>\n",
       "      <th>6</th>\n",
       "      <td>1.0</td>\n",
       "      <td>0.000000</td>\n",
       "      <td>1.0</td>\n",
       "      <td>1.000000</td>\n",
       "      <td>1.0</td>\n",
       "      <td>1.000000</td>\n",
       "      <td>fga-eps-mds-2022-1-Visualeasy-Frontend</td>\n",
       "      <td>0.3.6</td>\n",
       "      <td>1564</td>\n",
       "      <td>0.660000</td>\n",
       "      <td>1.000000</td>\n",
       "      <td>0.330000</td>\n",
       "      <td>0.500000</td>\n",
       "      <td>0.830000</td>\n",
       "    </tr>\n",
       "    <tr>\n",
       "      <th>7</th>\n",
       "      <td>1.0</td>\n",
       "      <td>0.000000</td>\n",
       "      <td>1.0</td>\n",
       "      <td>1.000000</td>\n",
       "      <td>1.0</td>\n",
       "      <td>1.000000</td>\n",
       "      <td>fga-eps-mds-2022-1-Visualeasy-Frontend</td>\n",
       "      <td>0.3.7</td>\n",
       "      <td>1572</td>\n",
       "      <td>0.660000</td>\n",
       "      <td>1.000000</td>\n",
       "      <td>0.330000</td>\n",
       "      <td>0.500000</td>\n",
       "      <td>0.830000</td>\n",
       "    </tr>\n",
       "    <tr>\n",
       "      <th>8</th>\n",
       "      <td>1.0</td>\n",
       "      <td>0.000000</td>\n",
       "      <td>1.0</td>\n",
       "      <td>1.000000</td>\n",
       "      <td>1.0</td>\n",
       "      <td>0.857143</td>\n",
       "      <td>fga-eps-mds-2022-1-Visualeasy-Frontend</td>\n",
       "      <td>0.3.8</td>\n",
       "      <td>2280</td>\n",
       "      <td>0.660000</td>\n",
       "      <td>0.928571</td>\n",
       "      <td>0.330000</td>\n",
       "      <td>0.464286</td>\n",
       "      <td>0.794286</td>\n",
       "    </tr>\n",
       "    <tr>\n",
       "      <th>9</th>\n",
       "      <td>1.0</td>\n",
       "      <td>0.000000</td>\n",
       "      <td>1.0</td>\n",
       "      <td>1.000000</td>\n",
       "      <td>1.0</td>\n",
       "      <td>0.428571</td>\n",
       "      <td>fga-eps-mds-2022-1-Visualeasy-Frontend</td>\n",
       "      <td>0.3.9</td>\n",
       "      <td>2280</td>\n",
       "      <td>0.660000</td>\n",
       "      <td>0.714286</td>\n",
       "      <td>0.330000</td>\n",
       "      <td>0.357143</td>\n",
       "      <td>0.687143</td>\n",
       "    </tr>\n",
       "    <tr>\n",
       "      <th>10</th>\n",
       "      <td>1.0</td>\n",
       "      <td>0.000000</td>\n",
       "      <td>1.0</td>\n",
       "      <td>1.000000</td>\n",
       "      <td>1.0</td>\n",
       "      <td>0.500000</td>\n",
       "      <td>fga-eps-mds-2022-1-Visualeasy-Frontend</td>\n",
       "      <td>0.4</td>\n",
       "      <td>2316</td>\n",
       "      <td>0.660000</td>\n",
       "      <td>0.750000</td>\n",
       "      <td>0.330000</td>\n",
       "      <td>0.375000</td>\n",
       "      <td>0.705000</td>\n",
       "    </tr>\n",
       "    <tr>\n",
       "      <th>11</th>\n",
       "      <td>1.0</td>\n",
       "      <td>0.000000</td>\n",
       "      <td>1.0</td>\n",
       "      <td>1.000000</td>\n",
       "      <td>1.0</td>\n",
       "      <td>0.500000</td>\n",
       "      <td>fga-eps-mds-2022-1-Visualeasy-Frontend</td>\n",
       "      <td>0.4.1</td>\n",
       "      <td>1412</td>\n",
       "      <td>0.660000</td>\n",
       "      <td>0.750000</td>\n",
       "      <td>0.330000</td>\n",
       "      <td>0.375000</td>\n",
       "      <td>0.705000</td>\n",
       "    </tr>\n",
       "    <tr>\n",
       "      <th>12</th>\n",
       "      <td>1.0</td>\n",
       "      <td>0.000000</td>\n",
       "      <td>1.0</td>\n",
       "      <td>1.000000</td>\n",
       "      <td>1.0</td>\n",
       "      <td>0.250000</td>\n",
       "      <td>fga-eps-mds-2022-1-Visualeasy-Frontend</td>\n",
       "      <td>0.4.2</td>\n",
       "      <td>1678</td>\n",
       "      <td>0.660000</td>\n",
       "      <td>0.625000</td>\n",
       "      <td>0.330000</td>\n",
       "      <td>0.312500</td>\n",
       "      <td>0.642500</td>\n",
       "    </tr>\n",
       "    <tr>\n",
       "      <th>13</th>\n",
       "      <td>1.0</td>\n",
       "      <td>0.000000</td>\n",
       "      <td>1.0</td>\n",
       "      <td>1.000000</td>\n",
       "      <td>1.0</td>\n",
       "      <td>0.250000</td>\n",
       "      <td>fga-eps-mds-2022-1-Visualeasy-Frontend</td>\n",
       "      <td>0.4.3</td>\n",
       "      <td>1806</td>\n",
       "      <td>0.660000</td>\n",
       "      <td>0.625000</td>\n",
       "      <td>0.330000</td>\n",
       "      <td>0.312500</td>\n",
       "      <td>0.642500</td>\n",
       "    </tr>\n",
       "    <tr>\n",
       "      <th>14</th>\n",
       "      <td>1.0</td>\n",
       "      <td>0.000000</td>\n",
       "      <td>1.0</td>\n",
       "      <td>0.333333</td>\n",
       "      <td>1.0</td>\n",
       "      <td>0.250000</td>\n",
       "      <td>fga-eps-mds-2022-1-Visualeasy-Frontend</td>\n",
       "      <td>0.5</td>\n",
       "      <td>3332</td>\n",
       "      <td>0.660000</td>\n",
       "      <td>0.458333</td>\n",
       "      <td>0.330000</td>\n",
       "      <td>0.229167</td>\n",
       "      <td>0.559167</td>\n",
       "    </tr>\n",
       "    <tr>\n",
       "      <th>15</th>\n",
       "      <td>1.0</td>\n",
       "      <td>0.000000</td>\n",
       "      <td>1.0</td>\n",
       "      <td>1.000000</td>\n",
       "      <td>1.0</td>\n",
       "      <td>0.833333</td>\n",
       "      <td>fga-eps-mds-2022-1-Visualeasy-Frontend</td>\n",
       "      <td>0.5.2</td>\n",
       "      <td>3010</td>\n",
       "      <td>0.660000</td>\n",
       "      <td>0.916667</td>\n",
       "      <td>0.330000</td>\n",
       "      <td>0.458333</td>\n",
       "      <td>0.788333</td>\n",
       "    </tr>\n",
       "    <tr>\n",
       "      <th>16</th>\n",
       "      <td>1.0</td>\n",
       "      <td>0.000000</td>\n",
       "      <td>1.0</td>\n",
       "      <td>1.000000</td>\n",
       "      <td>1.0</td>\n",
       "      <td>0.833333</td>\n",
       "      <td>fga-eps-mds-2022-1-Visualeasy-Frontend</td>\n",
       "      <td>0.5.3</td>\n",
       "      <td>3030</td>\n",
       "      <td>0.660000</td>\n",
       "      <td>0.916667</td>\n",
       "      <td>0.330000</td>\n",
       "      <td>0.458333</td>\n",
       "      <td>0.788333</td>\n",
       "    </tr>\n",
       "    <tr>\n",
       "      <th>17</th>\n",
       "      <td>1.0</td>\n",
       "      <td>0.000000</td>\n",
       "      <td>1.0</td>\n",
       "      <td>1.000000</td>\n",
       "      <td>1.0</td>\n",
       "      <td>0.875000</td>\n",
       "      <td>fga-eps-mds-2022-1-Visualeasy-Frontend</td>\n",
       "      <td>1.0</td>\n",
       "      <td>3472</td>\n",
       "      <td>0.660000</td>\n",
       "      <td>0.937500</td>\n",
       "      <td>0.330000</td>\n",
       "      <td>0.468750</td>\n",
       "      <td>0.798750</td>\n",
       "    </tr>\n",
       "  </tbody>\n",
       "</table>\n",
       "</div>"
      ],
      "text/plain": [
       "     m1        m2   m3        m4   m5        m6  \\\n",
       "0   1.0  0.000000  1.0  1.000000  1.0  0.625000   \n",
       "1   1.0  0.111111  1.0  1.000000  1.0  0.555556   \n",
       "2   1.0  0.000000  1.0  1.000000  1.0  1.000000   \n",
       "3   1.0  0.166667  1.0  1.000000  1.0  0.500000   \n",
       "4   1.0  0.000000  1.0  1.000000  1.0  0.833333   \n",
       "5   1.0  0.000000  1.0  1.000000  1.0  0.833333   \n",
       "6   1.0  0.000000  1.0  1.000000  1.0  1.000000   \n",
       "7   1.0  0.000000  1.0  1.000000  1.0  1.000000   \n",
       "8   1.0  0.000000  1.0  1.000000  1.0  0.857143   \n",
       "9   1.0  0.000000  1.0  1.000000  1.0  0.428571   \n",
       "10  1.0  0.000000  1.0  1.000000  1.0  0.500000   \n",
       "11  1.0  0.000000  1.0  1.000000  1.0  0.500000   \n",
       "12  1.0  0.000000  1.0  1.000000  1.0  0.250000   \n",
       "13  1.0  0.000000  1.0  1.000000  1.0  0.250000   \n",
       "14  1.0  0.000000  1.0  0.333333  1.0  0.250000   \n",
       "15  1.0  0.000000  1.0  1.000000  1.0  0.833333   \n",
       "16  1.0  0.000000  1.0  1.000000  1.0  0.833333   \n",
       "17  1.0  0.000000  1.0  1.000000  1.0  0.875000   \n",
       "\n",
       "                                repository version  ncloc  code_quality  \\\n",
       "0   fga-eps-mds-2022-1-Visualeasy-Frontend     0.2    776      0.660000   \n",
       "1   fga-eps-mds-2022-1-Visualeasy-Frontend     0.3   1366      0.696667   \n",
       "2   fga-eps-mds-2022-1-Visualeasy-Frontend   0.3.2    328      0.660000   \n",
       "3   fga-eps-mds-2022-1-Visualeasy-Frontend   0.3.3   1424      0.715000   \n",
       "4   fga-eps-mds-2022-1-Visualeasy-Frontend   0.3.4   1488      0.660000   \n",
       "5   fga-eps-mds-2022-1-Visualeasy-Frontend   0.3.5   1564      0.660000   \n",
       "6   fga-eps-mds-2022-1-Visualeasy-Frontend   0.3.6   1564      0.660000   \n",
       "7   fga-eps-mds-2022-1-Visualeasy-Frontend   0.3.7   1572      0.660000   \n",
       "8   fga-eps-mds-2022-1-Visualeasy-Frontend   0.3.8   2280      0.660000   \n",
       "9   fga-eps-mds-2022-1-Visualeasy-Frontend   0.3.9   2280      0.660000   \n",
       "10  fga-eps-mds-2022-1-Visualeasy-Frontend     0.4   2316      0.660000   \n",
       "11  fga-eps-mds-2022-1-Visualeasy-Frontend   0.4.1   1412      0.660000   \n",
       "12  fga-eps-mds-2022-1-Visualeasy-Frontend   0.4.2   1678      0.660000   \n",
       "13  fga-eps-mds-2022-1-Visualeasy-Frontend   0.4.3   1806      0.660000   \n",
       "14  fga-eps-mds-2022-1-Visualeasy-Frontend     0.5   3332      0.660000   \n",
       "15  fga-eps-mds-2022-1-Visualeasy-Frontend   0.5.2   3010      0.660000   \n",
       "16  fga-eps-mds-2022-1-Visualeasy-Frontend   0.5.3   3030      0.660000   \n",
       "17  fga-eps-mds-2022-1-Visualeasy-Frontend     1.0   3472      0.660000   \n",
       "\n",
       "    testing_status  Maintainability  Reliability     total  \n",
       "0         0.812500         0.330000     0.406250  0.736250  \n",
       "1         0.777778         0.348333     0.388889  0.737222  \n",
       "2         1.000000         0.330000     0.500000  0.830000  \n",
       "3         0.750000         0.357500     0.375000  0.732500  \n",
       "4         0.916667         0.330000     0.458333  0.788333  \n",
       "5         0.916667         0.330000     0.458333  0.788333  \n",
       "6         1.000000         0.330000     0.500000  0.830000  \n",
       "7         1.000000         0.330000     0.500000  0.830000  \n",
       "8         0.928571         0.330000     0.464286  0.794286  \n",
       "9         0.714286         0.330000     0.357143  0.687143  \n",
       "10        0.750000         0.330000     0.375000  0.705000  \n",
       "11        0.750000         0.330000     0.375000  0.705000  \n",
       "12        0.625000         0.330000     0.312500  0.642500  \n",
       "13        0.625000         0.330000     0.312500  0.642500  \n",
       "14        0.458333         0.330000     0.229167  0.559167  \n",
       "15        0.916667         0.330000     0.458333  0.788333  \n",
       "16        0.916667         0.330000     0.458333  0.788333  \n",
       "17        0.937500         0.330000     0.468750  0.798750  "
      ]
     },
     "execution_count": 34,
     "metadata": {},
     "output_type": "execute_result"
    }
   ],
   "source": [
    "repo2"
   ]
  },
  {
   "cell_type": "code",
   "execution_count": 35,
   "metadata": {
    "jupyter": {
     "outputs_hidden": false
    },
    "pycharm": {
     "name": "#%%\n"
    }
   },
   "outputs": [
    {
     "data": {
      "text/plain": [
       "Ellipsis"
      ]
     },
     "execution_count": 35,
     "metadata": {},
     "output_type": "execute_result"
    },
    {
     "data": {
      "image/png": "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\n",
      "text/plain": [
       "<Figure size 640x480 with 1 Axes>"
      ]
     },
     "metadata": {},
     "output_type": "display_data"
    }
   ],
   "source": [
    "plt.plot(repo2['Maintainability'], linewidth=3, marker='o', markersize=5)\n",
    "plt.plot(repo2['Reliability'], linewidth=3, marker='*', markersize=5)\n",
    "plt.plot(repo2['total'], linewidth=3, marker='X', markersize=5)\n",
    "\n",
    "plt.ylim(0.1,1.1)\n",
    "..."
   ]
  },
  {
   "cell_type": "markdown",
   "metadata": {},
   "source": [
    "### You must do the total plot and the statics analysis for the repository with more versions."
   ]
  },
  {
   "cell_type": "code",
   "execution_count": 36,
   "metadata": {
    "jupyter": {
     "outputs_hidden": false
    },
    "pycharm": {
     "name": "#%%\n"
    }
   },
   "outputs": [],
   "source": [
    "# Building descriptive statistics dataframe. You must replace YourRepoName for your repository name with more product versions.\n",
    "\n",
    "metrics_df = pd.concat([repo1, repo2], ignore_index=True)\n",
    "\n",
    "more_versions_repo = metrics_df[metrics_df['repository'] == 'fga-eps-mds-2022-1-Visualeasy-Frontend']\n",
    "\n",
    "def get_characteristc_stats(repo_series):\n",
    "    return {\n",
    "        'mean': repo_series.mean(),\n",
    "        'mode': repo_series.mode(),\n",
    "        'median': repo_series.median(),\n",
    "        'std': repo_series.std(),\n",
    "        'var': repo_series.var(),\n",
    "        'min': repo_series.min(),\n",
    "        'max': repo_series.max()\n",
    "    }\n",
    "\n",
    "maintainability_stats = pd.DataFrame(get_characteristc_stats(more_versions_repo[\"Maintainability\"]),\n",
    "                                     columns=['mean', 'mode', 'median', 'std', 'var', 'min', 'max'])\n",
    "\n",
    "reliability_stats = pd.DataFrame(get_characteristc_stats(more_versions_repo[\"Reliability\"]),\n",
    "                                 columns=['mean', 'mode', 'median', 'std', 'var', 'min', 'max'])"
   ]
  },
  {
   "cell_type": "code",
   "execution_count": 37,
   "metadata": {
    "jupyter": {
     "outputs_hidden": false
    },
    "pycharm": {
     "name": "#%%\n"
    }
   },
   "outputs": [
    {
     "name": "stdout",
     "output_type": "stream",
     "text": [
      "       mean  mode  median       std       var   min     max\n",
      "0  0.332546  0.33    0.33  0.007576  0.000057  0.33  0.3575\n"
     ]
    }
   ],
   "source": [
    "print(maintainability_stats)"
   ]
  },
  {
   "cell_type": "code",
   "execution_count": 38,
   "metadata": {
    "jupyter": {
     "outputs_hidden": false
    },
    "pycharm": {
     "name": "#%%\n"
    }
   },
   "outputs": [
    {
     "name": "stdout",
     "output_type": "stream",
     "text": [
      "      mean      mode    median       std       var       min  max\n",
      "0  0.41099  0.458333  0.432292  0.076184  0.005804  0.229167  0.5\n"
     ]
    }
   ],
   "source": [
    "print(reliability_stats)"
   ]
  },
  {
   "cell_type": "markdown",
   "metadata": {},
   "source": [
    "### Plotting the aggregated quality characteristic indicator"
   ]
  },
  {
   "cell_type": "code",
   "execution_count": 39,
   "metadata": {
    "jupyter": {
     "outputs_hidden": false
    },
    "pycharm": {
     "name": "#%%\n"
    }
   },
   "outputs": [
    {
     "data": {
      "text/plain": [
       "{'whiskers': [<matplotlib.lines.Line2D at 0x7f70b5aea3e0>,\n",
       "  <matplotlib.lines.Line2D at 0x7f70b5aeb8b0>,\n",
       "  <matplotlib.lines.Line2D at 0x7f70b5aeb100>,\n",
       "  <matplotlib.lines.Line2D at 0x7f70b5aeab90>],\n",
       " 'caps': [<matplotlib.lines.Line2D at 0x7f70b5aebfa0>,\n",
       "  <matplotlib.lines.Line2D at 0x7f70b5aebe50>,\n",
       "  <matplotlib.lines.Line2D at 0x7f70b5aeaec0>,\n",
       "  <matplotlib.lines.Line2D at 0x7f70b5aea4d0>],\n",
       " 'boxes': [<matplotlib.lines.Line2D at 0x7f70b5aebac0>,\n",
       "  <matplotlib.lines.Line2D at 0x7f70b5aeb3a0>],\n",
       " 'medians': [<matplotlib.lines.Line2D at 0x7f70b5aebbb0>,\n",
       "  <matplotlib.lines.Line2D at 0x7f70b5c52410>],\n",
       " 'fliers': [<matplotlib.lines.Line2D at 0x7f70b5aeb430>,\n",
       "  <matplotlib.lines.Line2D at 0x7f70b5c539a0>],\n",
       " 'means': []}"
      ]
     },
     "execution_count": 39,
     "metadata": {},
     "output_type": "execute_result"
    },
    {
     "data": {
      "image/png": "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\n",
      "text/plain": [
       "<Figure size 2000x1000 with 1 Axes>"
      ]
     },
     "metadata": {},
     "output_type": "display_data"
    }
   ],
   "source": [
    "plt.figure(figsize=(20, 10))\n",
    "\n",
    "# boxplot\n",
    "plt.boxplot([more_versions_repo['Maintainability'], more_versions_repo['Reliability']],\n",
    "labels=['Maintainability', 'Reliability'])"
   ]
  },
  {
   "cell_type": "markdown",
   "metadata": {},
   "source": [
    "### Plotting the aggregated repository quality indicator"
   ]
  },
  {
   "cell_type": "code",
   "execution_count": 40,
   "metadata": {
    "pycharm": {
     "name": "#%%\n"
    }
   },
   "outputs": [
    {
     "data": {
      "text/plain": [
       "(0.1, 1.0)"
      ]
     },
     "execution_count": 40,
     "metadata": {},
     "output_type": "execute_result"
    },
    {
     "data": {
      "image/png": "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\n",
      "text/plain": [
       "<Figure size 640x480 with 1 Axes>"
      ]
     },
     "metadata": {},
     "output_type": "display_data"
    }
   ],
   "source": [
    "plt.plot(more_versions_repo['total'], linewidth=3, marker='o', markersize=5)\n",
    "\n",
    "plt.ylim(.1,1)"
   ]
  },
  {
   "cell_type": "markdown",
   "metadata": {},
   "source": []
  },
  {
   "cell_type": "code",
   "execution_count": 42,
   "metadata": {},
   "outputs": [],
   "source": [
    "# DATE FORMAT: MM-DD-YYYY-HH:MM:SS\n",
    "currentDateTime = datetime.datetime.now().strftime(\"%m-%d-%Y-%H:%M:%S\")\n",
    "\n",
    "metrics_df.to_excel('data/fga-eps-mds-2022-1-Visualeasy-{}.xlsx'.format(currentDateTime), index = False)\n",
    "\n",
    "metrics_df.to_csv('data/fga-eps-mds-2022-1-Visualeasy-{}.csv'.format(currentDateTime), index = False)"
   ]
  },
  {
   "cell_type": "code",
   "execution_count": null,
   "metadata": {},
   "outputs": [],
   "source": []
  },
  {
   "cell_type": "markdown",
   "metadata": {
    "collapsed": false,
    "pycharm": {
     "name": "#%% md\n"
    }
   },
   "source": [
    "# Questões a serem respondidas"
   ]
  },
  {
   "cell_type": "markdown",
   "metadata": {
    "collapsed": false,
    "pycharm": {
     "name": "#%% md\n"
    }
   },
   "source": [
    "## 1)Qual é o microsserviço de backend que apresenta o pior indicador de manutenabilidade e o que foi feito pela equipe do Visualeasy para melhorá-lo?"
   ]
  },
  {
   "cell_type": "markdown",
   "metadata": {
    "collapsed": false,
    "pycharm": {
     "name": "#%% md\n"
    }
   },
   "source": [
    "O projeto do Visualeasy foi planejado e desenvolvido com apenas 1 microsserviço de backend, o microsserviço chamado de Controle. Consequentemente, é ele que apresenta o pior indicador de manutenabilidade.",
    "\n",
    "A equipe identificou e se propôs a tentar melhorar o indicador dessa métrica após a entrega da release 5. Porém, houve um erro de interpretação da equipe sobre qual o número ideal que deveria estar nessa métrica. A equipe aplicou algumas refatorações retirando os comentários presentes no código, o que levou a métrica ao valor 0, onde acreditávamos ser o ideal. Entretanto, apenas após a entrega, foi compreendido pela equipe que o ideal seria entre manter 10% a 30% de comentários no código.",
   ]
  },
 {
   "cell_type": "markdown",
   "metadata": {
    "collapsed": false,
    "pycharm": {
     "name": "#%% md\n"
    }
   },
   "source": [
    "## 2) No microsserviço que apresentar o pior indicador de confiabilidade, mostre qual(is) o(s) módulos/arquivos mais críticos e explique como a equipe do Visualeasy tratou esse problema."
   ]
  },
  {
   "cell_type": "markdown",
   "metadata": {
    "collapsed": false,
    "pycharm": {
     "name": "#%% md\n"
    }
   },
   "source": [
    "O microsserviço do nosso projeto que apresentou o pior indicador de confiabilidade, foi o Frontend. E dentro desse microsserviço, o diretório /src/pages/components/FormGraph contém o arquivo mais crítico do nosso projeto.\n",
    "\n",
    "Esse arquivo contém a funcionalidade principal do nosso produto, portanto, aconteceram muitas modificações, importações de outros arquivos menores, geração de bugs e erros, e por falta de conhecimento da equipe sobre como renderizar os testes, os testes ficaram reduzidos para esse arquivo.\n",
    "\n",
    "Por fim, a equipe tentou melhorar e aumentar a cobertura de testes para esse arquivo, porém não gerou tanto resultado."
   ]
  },
  {
   "cell_type": "markdown",
   "metadata": {
    "collapsed": false,
    "pycharm": {
     "name": "#%% md\n"
    }
   },
   "source": [
    "## 3) Explique o comportamento da qualidade do produto observada ao longo do tempo de desenvolvimento do projeto."
   ]
  },
  {
   "cell_type": "markdown",
   "metadata": {
    "collapsed": false,
    "pycharm": {
     "name": "#%% md\n"
    }
   },
   "source": [
    "Analisando a qualidade do produto podemos dizer que, em relação ao microsserviço Controle, houve uma estabilidade nas métricas durante o todo o projeto, com um desvio padrão pequeno, onde o mínimo foi 0,75 e o máximo 0,88. Isso foi resultado da utilização de TDD durante o desenvolvimento do projeto.\n",
    "\n",
    "Porém, em relação ao microsserviço Frontend, esse desvio padrão foi bem mais alarmante durante o projeto. Houve uma queda drástica da métrica relacionada a confiabilidade do produto, principalmente entre a versão 0.4 e 0.5, alarmando a equipe sobre a qualidade do produto. Após a análise da razão dessa queda, foi constatado que o motivo foi uma atualização de uma ferramenta utilizada para desenvolvimento do produto, gerando uma queda na porcentagem de cobertura de testes do microsserviço. Então a equipe dedicou esforços para refatorar o código e aumentar a cobertura de testes, tendo esse objetivo concluído na geração da última versão do produto.\n",
    "\n",
    "Por fim, pode-se concluir que a qualidade do produto se manteve em um intervalo aceitável durante boa parte do projeto, saindo apenas durante um curto período, mas logo após o problema foi resolvido pela equipe, resultando em um produto final com uma qualidade satisfatória."
   ]
  }
 ],
 "metadata": {
  "kernelspec": {
   "display_name": "Python 3 (ipykernel)",
   "language": "python",
   "name": "python3"
  },
  "language_info": {
   "codemirror_mode": {
    "name": "ipython",
    "version": 3
   },
   "file_extension": ".py",
   "mimetype": "text/x-python",
   "name": "python",
   "nbconvert_exporter": "python",
   "pygments_lexer": "ipython3",
   "version": "3.10.6"
  },
  "vscode": {
   "interpreter": {
    "hash": "e7370f93d1d0cde622a1f8e1c04877d8463912d04d973331ad4851f04de6915a"
   }
  }
 },
 "nbformat": 4,
 "nbformat_minor": 4
},

